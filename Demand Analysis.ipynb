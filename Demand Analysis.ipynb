{
 "cells": [
  {
   "cell_type": "markdown",
   "id": "e485fed9",
   "metadata": {},
   "source": [
    "# Demand Analysis"
   ]
  },
  {
   "cell_type": "code",
   "execution_count": null,
   "id": "caa231b4",
   "metadata": {},
   "outputs": [],
   "source": [
    "# Import libraries\n",
    "import pandas as pd\n",
    "import warnings\n",
    "warnings.filterwarnings('ignore')\n",
    "\n",
    "# Load your sales data\n",
    "sales_df = pd.read_csv('clothing_reviews.csv')  # Example: columns ['Order_ID', 'Product_ID', 'Quantity', 'Date']\n",
    "\n",
    "sales_df.head()\n"
   ]
  },
  {
   "cell_type": "code",
   "execution_count": null,
   "id": "bf8b4930",
   "metadata": {},
   "outputs": [],
   "source": [
    "products_df = pd.read_csv('clothing_description.csv')\n",
    "products_df.head()"
   ]
  },
  {
   "cell_type": "markdown",
   "id": "dd418bb6",
   "metadata": {},
   "source": [
    "# 1. Best-Selling / Trending Products (Customer page)"
   ]
  },
  {
   "cell_type": "code",
   "execution_count": null,
   "id": "b334bbfb",
   "metadata": {},
   "outputs": [],
   "source": [
    "import pandas as pd\n",
    "\n",
    "# Load the datasets\n",
    "products_df = pd.read_csv('clothing_description.csv')\n",
    "reviews_df = pd.read_csv('clothing_reviews.csv')\n",
    "\n",
    "# Step 1: Find Best-Selling Products\n",
    "best_sellers = reviews_df.groupby('product_id')['Quantity'].sum().sort_values(ascending=False)\n",
    "\n",
    "# Step 2: Top 10 Trending Product IDs\n",
    "top_trending_ids = best_sellers.head(10).index.tolist()\n",
    "\n",
    "# Step 3: Count number of non-empty reviews per product\n",
    "review_counts = reviews_df[reviews_df['Review Text'].notnull()].groupby('product_id')['Review Text'].count().reset_index()\n",
    "review_counts.rename(columns={'Review Text': 'num_reviews'}, inplace=True)\n",
    "\n",
    "# Step 4: Get product details for trending products\n",
    "trending_products = products_df[products_df['product_id'].isin(top_trending_ids)]\n",
    "\n",
    "# Step 5: Merge with review counts\n",
    "trending_products = trending_products.merge(review_counts, on='product_id', how='left')\n",
    "trending_products['num_reviews'].fillna(0, inplace=True)  # If no reviews, set to 0\n",
    "trending_products['num_reviews'] = trending_products['num_reviews'].astype(int)\n",
    "\n",
    "# Optional: Order by sales volume (same as best_sellers)\n",
    "trending_products['total_quantity'] = trending_products['product_id'].map(best_sellers)\n",
    "trending_products = trending_products.sort_values(by='total_quantity', ascending=False)\n",
    "\n",
    "# Step 6: Show Trending Products\n",
    "print(\"🔥 Trending Products (Top 10 by Sales) + Number of Reviews:\")\n",
    "print(trending_products[['product_id', 'product_name', 'product_category', 'total_quantity', 'num_reviews']].to_string(index=False))\n"
   ]
  },
  {
   "cell_type": "markdown",
   "id": "0ccf666c",
   "metadata": {},
   "source": [
    "# 2. Admin Page – Demand Forecasting (Next 6 months)"
   ]
  },
  {
   "cell_type": "code",
   "execution_count": null,
   "id": "7dbfaebc",
   "metadata": {},
   "outputs": [],
   "source": [
    "import pandas as pd\n",
    "import matplotlib.pyplot as plt\n",
    "from statsmodels.tsa.holtwinters import ExponentialSmoothing\n",
    "import warnings\n",
    "warnings.filterwarnings('ignore')\n",
    "\n",
    "# Remove rows with missing key values\n",
    "sales_df = sales_df.dropna(subset=['product_id', 'Quantity', 'Purchase Date'])\n",
    "\n",
    "# Correct datetime format\n",
    "sales_df['Purchase Date'] = pd.to_datetime(sales_df['Purchase Date'], format='%d-%m-%Y %H:%M')\n",
    "\n",
    "# Set datetime as index\n",
    "sales_df.set_index('Purchase Date', inplace=True)\n",
    "\n",
    "# Aggregate monthly sales\n",
    "monthly_total_sales = sales_df.resample('M')['Quantity'].sum()\n",
    "\n",
    "# Drop the last month if it's not a full month (based on last date)\n",
    "last_date = sales_df.index.max()\n",
    "if last_date.day < 28:  # Likely not a full month\n",
    "    monthly_total_sales = monthly_total_sales[:-1]\n",
    "\n",
    "# Interpolate any 0s that may have been caused by missing data\n",
    "monthly_total_sales = monthly_total_sales.replace(0, pd.NA)\n",
    "monthly_total_sales = monthly_total_sales.interpolate()\n",
    "\n",
    "# Fit Exponential Smoothing model (additive trend & seasonality)\n",
    "model = ExponentialSmoothing(monthly_total_sales, trend='add', seasonal='add', seasonal_periods=12).fit()\n",
    "\n",
    "# Forecast next 6 months\n",
    "forecast = model.forecast(6)\n",
    "\n",
    "# --- Key Change: Merge historical and forecast for smoother plot ---\n",
    "full_series = pd.concat([monthly_total_sales, forecast])\n",
    "\n",
    "# Plot\n",
    "plt.figure(figsize=(12,6))\n",
    "plt.plot(full_series, label='Historical + Forecasted Sales', color='blue')  # Single continuous line\n",
    "plt.axvline(x=monthly_total_sales.index[-1], color='orange', linestyle='--', label='Forecast Start')  # Mark forecast start\n",
    "plt.title('Demand Forecast - Next 6 Months')\n",
    "plt.xlabel('Month')\n",
    "plt.ylabel('Total Quantity Sold')\n",
    "plt.legend()\n",
    "plt.grid(True)\n",
    "plt.tight_layout()\n",
    "plt.show()\n",
    "\n",
    "# Print forecasted values\n",
    "print(\"📈 Forecasted Sales for Next 6 Months:\")\n",
    "print(forecast)\n"
   ]
  },
  {
   "cell_type": "markdown",
   "id": "3aaa42c1",
   "metadata": {},
   "source": [
    "# Predict high-demand products and alert admin to stock them."
   ]
  },
  {
   "cell_type": "code",
   "execution_count": null,
   "id": "6cba5b76",
   "metadata": {},
   "outputs": [],
   "source": [
    "import pandas as pd\n",
    "import warnings\n",
    "warnings.filterwarnings('ignore')\n",
    "\n",
    "# Load files\n",
    "desc_df = pd.read_csv('clothing_description.csv')\n",
    "reviews_df = pd.read_csv('clothing_reviews.csv')\n",
    "\n",
    "# Convert 'Purchase Date' to datetime\n",
    "reviews_df['Purchase Date'] = pd.to_datetime(reviews_df['Purchase Date'], dayfirst=True)\n",
    "\n",
    "# Remove missing or invalid product IDs/quantities\n",
    "reviews_df.dropna(subset=['product_id', 'Quantity', 'Purchase Date'], inplace=True)\n"
   ]
  },
  {
   "cell_type": "code",
   "execution_count": null,
   "id": "afdce4fb",
   "metadata": {},
   "outputs": [],
   "source": [
    "# Set date as index for resampling\n",
    "reviews_df.set_index('Purchase Date', inplace=True)\n",
    "\n",
    "# Group by product and month\n",
    "monthly_sales = reviews_df.groupby(['product_id', pd.Grouper(freq='M')])['Quantity'].sum().reset_index()\n"
   ]
  },
  {
   "cell_type": "code",
   "execution_count": null,
   "id": "ddd612df",
   "metadata": {},
   "outputs": [],
   "source": [
    "alerts = []\n",
    "\n",
    "for product_id in monthly_sales['product_id'].unique():\n",
    "    product_data = monthly_sales[monthly_sales['product_id'] == product_id].copy()\n",
    "    product_data.set_index('Purchase Date', inplace=True)\n",
    "    ts = product_data['Quantity']\n",
    "\n",
    "    if len(ts) < 6:\n",
    "        continue\n",
    "\n",
    "    try:\n",
    "        sp = min(12, len(ts))  # Use shorter seasonal period if needed\n",
    "        model = ExponentialSmoothing(ts, trend='add', seasonal='add', seasonal_periods=sp).fit()\n",
    "        forecast = model.forecast(1)\n",
    "        predicted_demand = forecast.iloc[0]\n",
    "\n",
    "        print(f\"Product {product_id} forecasted demand: {predicted_demand:.2f}\")  # Debug\n",
    "\n",
    "        if predicted_demand >= 10:  # Lower threshold for testing\n",
    "            alerts.append((product_id, round(predicted_demand, 2)))\n",
    "\n",
    "    except Exception as e:\n",
    "        print(f\"Skipped {product_id} due to error: {e}\")\n"
   ]
  },
  {
   "cell_type": "code",
   "execution_count": null,
   "id": "5448d1a7",
   "metadata": {},
   "outputs": [],
   "source": [
    "# Merge forecasted products with product details\n",
    "alerts_df = pd.DataFrame(alerts, columns=['product_id', 'forecasted_quantity'])\n",
    "final_alerts = pd.merge(alerts_df, desc_df, on='product_id', how='left')\n",
    "\n",
    "# Show alert\n",
    "print(\"⚠️ High-Demand Products - Stock Alert for Next Month ⚠️\")\n",
    "print(final_alerts[['product_id', 'product_name', 'product_category', 'forecasted_quantity']].sort_values(by='forecasted_quantity', ascending=False).to_string(index=False))\n"
   ]
  },
  {
   "cell_type": "markdown",
   "id": "1732babc",
   "metadata": {},
   "source": [
    "# 3. Admin Page - Low Demand Products (Discount/Promotion)"
   ]
  },
  {
   "cell_type": "code",
   "execution_count": null,
   "id": "336d1605",
   "metadata": {},
   "outputs": [],
   "source": [
    "df = pd.read_csv(\"clothing_reviews.csv\")\n",
    "\n",
    "# Convert 'Purchase Date' to datetime\n",
    "df['Purchase Date'] = pd.to_datetime(df['Purchase Date'], dayfirst=True)\n",
    "\n",
    "# Determine the latest date in the dataset\n",
    "latest_date = df['Purchase Date'].max()\n",
    "\n",
    "# Filter data for the last 3 months from the latest purchase date\n",
    "three_months_ago = latest_date - pd.DateOffset(months=3)\n",
    "recent_df = df[df['Purchase Date'] >= three_months_ago]\n",
    "\n",
    "# Group by product_id and product_name, summing the total quantity sold\n",
    "recent_demand = recent_df.groupby(['product_id', 'product_name'])['Quantity'].sum().reset_index()\n",
    "\n",
    "# Sort by quantity to find low-demand products\n",
    "low_recent_demand = recent_demand.sort_values(by='Quantity').reset_index(drop=True)\n",
    "\n",
    "# Display low-demand products in the last 3 months\n",
    "low_recent_demand.head(10)"
   ]
  },
  {
   "cell_type": "code",
   "execution_count": null,
   "id": "c62c3d19",
   "metadata": {},
   "outputs": [],
   "source": [
    "# Define discount strategy function\n",
    "def suggest_discount(qty):\n",
    "    if qty <= 1:\n",
    "        return \"30% OFF\"\n",
    "    elif qty <= 2:\n",
    "        return \"20% OFF\"\n",
    "    elif qty <= 3:\n",
    "        return \"10% OFF\"\n",
    "    else:\n",
    "        return \"No Discount\"\n",
    "\n",
    "# Apply the discount suggestion\n",
    "low_recent_demand['Suggested Discount'] = low_recent_demand['Quantity'].apply(suggest_discount)\n",
    "\n",
    "# Filter to show only products that should be discounted\n",
    "discount_suggestions = low_recent_demand[low_recent_demand['Suggested Discount'] != \"No Discount\"]\n",
    "\n",
    "# Display final suggested discount list\n",
    "print(discount_suggestions)\n"
   ]
  },
  {
   "cell_type": "code",
   "execution_count": null,
   "id": "d0abce0f",
   "metadata": {},
   "outputs": [],
   "source": []
  }
 ],
 "metadata": {
  "kernelspec": {
   "display_name": "Python 3 (ipykernel)",
   "language": "python",
   "name": "python3"
  },
  "language_info": {
   "codemirror_mode": {
    "name": "ipython",
    "version": 3
   },
   "file_extension": ".py",
   "mimetype": "text/x-python",
   "name": "python",
   "nbconvert_exporter": "python",
   "pygments_lexer": "ipython3",
   "version": "3.9.19"
  }
 },
 "nbformat": 4,
 "nbformat_minor": 5
}
